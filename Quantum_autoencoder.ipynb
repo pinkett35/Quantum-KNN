{
  "nbformat": 4,
  "nbformat_minor": 0,
  "metadata": {
    "colab": {
      "name": "Quantum_autoencoder.ipynb",
      "provenance": [],
      "collapsed_sections": [],
      "include_colab_link": true
    },
    "kernelspec": {
      "display_name": "Python 3",
      "name": "python3"
    },
    "language_info": {
      "name": "python"
    }
  },
  "cells": [
    {
      "cell_type": "markdown",
      "metadata": {
        "id": "view-in-github",
        "colab_type": "text"
      },
      "source": [
        "<a href=\"https://colab.research.google.com/github/pinkett35/Quantum-KNN/blob/main/Quantum_autoencoder.ipynb\" target=\"_parent\"><img src=\"https://colab.research.google.com/assets/colab-badge.svg\" alt=\"Open In Colab\"/></a>"
      ]
    },
    {
      "cell_type": "code",
      "metadata": {
        "id": "oKYdpbh5Ggut",
        "colab": {
          "base_uri": "https://localhost:8080/"
        },
        "outputId": "04f357a0-7c51-4b55-983d-3fd5b508921d"
      },
      "source": [
        "pip install qiskit"
      ],
      "execution_count": 3,
      "outputs": [
        {
          "output_type": "stream",
          "text": [
            "Collecting qiskit\n",
            "  Downloading https://files.pythonhosted.org/packages/73/9e/07552a6bf5636de7471947c2699e60a6d3681a29ebb72414572e57cdfb98/qiskit-0.25.1.tar.gz\n",
            "Collecting qiskit-terra==0.17.1\n",
            "\u001b[?25l  Downloading https://files.pythonhosted.org/packages/3b/4b/58f79398313098edc4b1d161bd93290e7b9af213545eab7073739a84d58b/qiskit_terra-0.17.1-cp37-cp37m-manylinux2010_x86_64.whl (6.0MB)\n",
            "\u001b[K     |████████████████████████████████| 6.0MB 3.7MB/s \n",
            "\u001b[?25hCollecting qiskit-aer==0.8.1\n",
            "\u001b[?25l  Downloading https://files.pythonhosted.org/packages/71/05/a1cb73a48a6e252fe0fdc18fbf08e7f8b7bfa714db512aa688790682b6c9/qiskit_aer-0.8.1-cp37-cp37m-manylinux2010_x86_64.whl (17.9MB)\n",
            "\u001b[K     |████████████████████████████████| 17.9MB 214kB/s \n",
            "\u001b[?25hCollecting qiskit-ibmq-provider==0.12.2\n",
            "\u001b[?25l  Downloading https://files.pythonhosted.org/packages/08/ac/69bb35892303c3a4a52eaaf7ea95431dd3f57963b580a011ee92693a7fcc/qiskit_ibmq_provider-0.12.2-py3-none-any.whl (198kB)\n",
            "\u001b[K     |████████████████████████████████| 204kB 51.2MB/s \n",
            "\u001b[?25hCollecting qiskit-ignis==0.6.0\n",
            "\u001b[?25l  Downloading https://files.pythonhosted.org/packages/54/be/a13c828e457e09d979667a61bddbd8c7246aafa94e2501b6a9154429cbea/qiskit_ignis-0.6.0-py3-none-any.whl (207kB)\n",
            "\u001b[K     |████████████████████████████████| 215kB 33.2MB/s \n",
            "\u001b[?25hCollecting qiskit-aqua==0.9.1\n",
            "\u001b[?25l  Downloading https://files.pythonhosted.org/packages/88/79/392c57b978decbb24b902344b536af52c40a751aed0ebbaefa8bc2964cb5/qiskit_aqua-0.9.1-py3-none-any.whl (2.1MB)\n",
            "\u001b[K     |████████████████████████████████| 2.1MB 51.6MB/s \n",
            "\u001b[?25hCollecting ply>=3.10\n",
            "\u001b[?25l  Downloading https://files.pythonhosted.org/packages/a3/58/35da89ee790598a0700ea49b2a66594140f44dec458c07e8e3d4979137fc/ply-3.11-py2.py3-none-any.whl (49kB)\n",
            "\u001b[K     |████████████████████████████████| 51kB 4.6MB/s \n",
            "\u001b[?25hRequirement already satisfied: python-dateutil>=2.8.0 in /usr/local/lib/python3.7/dist-packages (from qiskit-terra==0.17.1->qiskit) (2.8.1)\n",
            "Requirement already satisfied: numpy>=1.17 in /usr/local/lib/python3.7/dist-packages (from qiskit-terra==0.17.1->qiskit) (1.19.5)\n",
            "Requirement already satisfied: psutil>=5 in /usr/local/lib/python3.7/dist-packages (from qiskit-terra==0.17.1->qiskit) (5.4.8)\n",
            "Requirement already satisfied: dill>=0.3 in /usr/local/lib/python3.7/dist-packages (from qiskit-terra==0.17.1->qiskit) (0.3.3)\n",
            "Requirement already satisfied: scipy>=1.4 in /usr/local/lib/python3.7/dist-packages (from qiskit-terra==0.17.1->qiskit) (1.4.1)\n",
            "Collecting retworkx>=0.8.0\n",
            "\u001b[?25l  Downloading https://files.pythonhosted.org/packages/1b/92/f007f8b9d88dcd5b90e363967e5d54431a68c5fe06d83400732e3b438084/retworkx-0.8.0-cp37-cp37m-manylinux2010_x86_64.whl (1.0MB)\n",
            "\u001b[K     |████████████████████████████████| 1.0MB 21.2MB/s \n",
            "\u001b[?25hCollecting python-constraint>=1.4\n",
            "  Downloading https://files.pythonhosted.org/packages/37/8b/5f1bc2734ca611943e1d6733ee244238679f6410a10cd45ede55a61a8402/python-constraint-1.4.0.tar.bz2\n",
            "Requirement already satisfied: jsonschema>=2.6 in /usr/local/lib/python3.7/dist-packages (from qiskit-terra==0.17.1->qiskit) (2.6.0)\n",
            "Collecting fastjsonschema>=2.10\n",
            "  Downloading https://files.pythonhosted.org/packages/89/1c/8be51fa42aadc1c1611a52b866e1a5a1032a504f24789cf140b4e6d7c940/fastjsonschema-2.15.0-py3-none-any.whl\n",
            "Requirement already satisfied: sympy>=1.3 in /usr/local/lib/python3.7/dist-packages (from qiskit-terra==0.17.1->qiskit) (1.7.1)\n",
            "Collecting pybind11>=2.6\n",
            "\u001b[?25l  Downloading https://files.pythonhosted.org/packages/8d/43/7339dbabbc2793718d59703aace4166f53c29ee1c202f6ff5bf8a26c4d91/pybind11-2.6.2-py2.py3-none-any.whl (191kB)\n",
            "\u001b[K     |████████████████████████████████| 194kB 38.7MB/s \n",
            "\u001b[?25hCollecting websockets>=8\n",
            "\u001b[?25l  Downloading https://files.pythonhosted.org/packages/5a/0b/3ebc752392a368af14dd24ee041683416ac6d2463eead94b311b11e41c82/websockets-8.1-cp37-cp37m-manylinux2010_x86_64.whl (79kB)\n",
            "\u001b[K     |████████████████████████████████| 81kB 7.1MB/s \n",
            "\u001b[?25hRequirement already satisfied: requests>=2.19 in /usr/local/lib/python3.7/dist-packages (from qiskit-ibmq-provider==0.12.2->qiskit) (2.23.0)\n",
            "Requirement already satisfied: nest-asyncio!=1.1.0,>=1.0.0 in /usr/local/lib/python3.7/dist-packages (from qiskit-ibmq-provider==0.12.2->qiskit) (1.5.1)\n",
            "Collecting requests-ntlm>=1.1.0\n",
            "  Downloading https://files.pythonhosted.org/packages/03/4b/8b9a1afde8072c4d5710d9fa91433d504325821b038e00237dc8d6d833dc/requests_ntlm-1.1.0-py2.py3-none-any.whl\n",
            "Requirement already satisfied: urllib3>=1.21.1 in /usr/local/lib/python3.7/dist-packages (from qiskit-ibmq-provider==0.12.2->qiskit) (1.24.3)\n",
            "Requirement already satisfied: setuptools>=40.1.0 in /usr/local/lib/python3.7/dist-packages (from qiskit-ignis==0.6.0->qiskit) (54.2.0)\n",
            "Collecting docplex<=2.20.204; sys_platform != \"darwin\"\n",
            "\u001b[?25l  Downloading https://files.pythonhosted.org/packages/87/99/6f7c219b39fd58c84688ad0713eb932bfcf6be81fc74519e43ea9c915b56/docplex-2.20.204.tar.gz (611kB)\n",
            "\u001b[K     |████████████████████████████████| 614kB 34.6MB/s \n",
            "\u001b[?25hCollecting dlx<=1.0.4\n",
            "  Downloading https://files.pythonhosted.org/packages/54/c0/b8fb5bb727e983b6f5251433ef941b48f38c65bb0bd6ec509e9185bcd406/dlx-1.0.4.tar.gz\n",
            "Requirement already satisfied: scikit-learn<=0.24.1,>=0.20.0 in /usr/local/lib/python3.7/dist-packages (from qiskit-aqua==0.9.1->qiskit) (0.22.2.post1)\n",
            "Requirement already satisfied: fastdtw<=0.3.4 in /usr/local/lib/python3.7/dist-packages (from qiskit-aqua==0.9.1->qiskit) (0.3.4)\n",
            "Collecting quandl<=3.6.0\n",
            "  Downloading https://files.pythonhosted.org/packages/c2/58/9f0e69d836045e3865d263e9ed49f42b23a58526fdabb30f74c430baee3f/Quandl-3.6.0-py2.py3-none-any.whl\n",
            "Requirement already satisfied: pandas<=1.2.3 in /usr/local/lib/python3.7/dist-packages (from qiskit-aqua==0.9.1->qiskit) (1.1.5)\n",
            "Collecting yfinance<=0.1.55\n",
            "  Downloading https://files.pythonhosted.org/packages/7a/e8/b9d7104d3a4bf39924799067592d9e59119fcfc900a425a12e80a3123ec8/yfinance-0.1.55.tar.gz\n",
            "Requirement already satisfied: h5py<=3.1.0 in /usr/local/lib/python3.7/dist-packages (from qiskit-aqua==0.9.1->qiskit) (2.10.0)\n",
            "Requirement already satisfied: six>=1.5 in /usr/local/lib/python3.7/dist-packages (from python-dateutil>=2.8.0->qiskit-terra==0.17.1->qiskit) (1.15.0)\n",
            "Requirement already satisfied: mpmath>=0.19 in /usr/local/lib/python3.7/dist-packages (from sympy>=1.3->qiskit-terra==0.17.1->qiskit) (1.2.1)\n",
            "Requirement already satisfied: certifi>=2017.4.17 in /usr/local/lib/python3.7/dist-packages (from requests>=2.19->qiskit-ibmq-provider==0.12.2->qiskit) (2020.12.5)\n",
            "Requirement already satisfied: chardet<4,>=3.0.2 in /usr/local/lib/python3.7/dist-packages (from requests>=2.19->qiskit-ibmq-provider==0.12.2->qiskit) (3.0.4)\n",
            "Requirement already satisfied: idna<3,>=2.5 in /usr/local/lib/python3.7/dist-packages (from requests>=2.19->qiskit-ibmq-provider==0.12.2->qiskit) (2.10)\n",
            "Collecting ntlm-auth>=1.0.2\n",
            "  Downloading https://files.pythonhosted.org/packages/ff/84/97c550164b54942b0e908c31ef09d9469f3ba4cd7332a671e2125732f63b/ntlm_auth-1.5.0-py2.py3-none-any.whl\n",
            "Collecting cryptography>=1.3\n",
            "\u001b[?25l  Downloading https://files.pythonhosted.org/packages/b2/26/7af637e6a7e87258b963f1731c5982fb31cd507f0d90d91836e446955d02/cryptography-3.4.7-cp36-abi3-manylinux2014_x86_64.whl (3.2MB)\n",
            "\u001b[K     |████████████████████████████████| 3.2MB 42.0MB/s \n",
            "\u001b[?25hRequirement already satisfied: joblib>=0.11 in /usr/local/lib/python3.7/dist-packages (from scikit-learn<=0.24.1,>=0.20.0->qiskit-aqua==0.9.1->qiskit) (1.0.1)\n",
            "Requirement already satisfied: more-itertools in /usr/local/lib/python3.7/dist-packages (from quandl<=3.6.0->qiskit-aqua==0.9.1->qiskit) (8.7.0)\n",
            "Collecting inflection>=0.3.1\n",
            "  Downloading https://files.pythonhosted.org/packages/59/91/aa6bde563e0085a02a435aa99b49ef75b0a4b062635e606dab23ce18d720/inflection-0.5.1-py2.py3-none-any.whl\n",
            "Requirement already satisfied: pytz>=2017.2 in /usr/local/lib/python3.7/dist-packages (from pandas<=1.2.3->qiskit-aqua==0.9.1->qiskit) (2018.9)\n",
            "Requirement already satisfied: multitasking>=0.0.7 in /usr/local/lib/python3.7/dist-packages (from yfinance<=0.1.55->qiskit-aqua==0.9.1->qiskit) (0.0.9)\n",
            "Collecting lxml>=4.5.1\n",
            "\u001b[?25l  Downloading https://files.pythonhosted.org/packages/cf/4d/6537313bf58fe22b508f08cf3eb86b29b6f9edf68e00454224539421073b/lxml-4.6.3-cp37-cp37m-manylinux1_x86_64.whl (5.5MB)\n",
            "\u001b[K     |████████████████████████████████| 5.5MB 37.3MB/s \n",
            "\u001b[?25hRequirement already satisfied: cffi>=1.12 in /usr/local/lib/python3.7/dist-packages (from cryptography>=1.3->requests-ntlm>=1.1.0->qiskit-ibmq-provider==0.12.2->qiskit) (1.14.5)\n",
            "Requirement already satisfied: pycparser in /usr/local/lib/python3.7/dist-packages (from cffi>=1.12->cryptography>=1.3->requests-ntlm>=1.1.0->qiskit-ibmq-provider==0.12.2->qiskit) (2.20)\n",
            "Building wheels for collected packages: qiskit, python-constraint, docplex, dlx, yfinance\n",
            "  Building wheel for qiskit (setup.py) ... \u001b[?25l\u001b[?25hdone\n",
            "  Created wheel for qiskit: filename=qiskit-0.25.1-cp37-none-any.whl size=3064 sha256=879585993cf40694b0a5b62db765d8cc0b5ea48acde81e817d8d7e644cfa795c\n",
            "  Stored in directory: /root/.cache/pip/wheels/e2/00/23/7328e187ec5202e637b2fb6b2a0c68029758c90abded1eee60\n",
            "  Building wheel for python-constraint (setup.py) ... \u001b[?25l\u001b[?25hdone\n",
            "  Created wheel for python-constraint: filename=python_constraint-1.4.0-py2.py3-none-any.whl size=24079 sha256=32aaf3cc2203e37dd4ab62dc924680d1aa614bbc8d3eb10b593b0355a7974990\n",
            "  Stored in directory: /root/.cache/pip/wheels/34/31/15/7b070b25d0a549d20ce2e9fe6d727471c2c61ef904720fd40c\n",
            "  Building wheel for docplex (setup.py) ... \u001b[?25l\u001b[?25hdone\n",
            "  Created wheel for docplex: filename=docplex-2.20.204-cp37-none-any.whl size=675362 sha256=c637eed7624394ec91331163eb3380907a8df278cee8663c377e14cf9b48a14b\n",
            "  Stored in directory: /root/.cache/pip/wheels/ae/2c/e2/a099ebb6fda8adeba9c5fc2e25659d195ad2f5c6cc5fb75fd4\n",
            "  Building wheel for dlx (setup.py) ... \u001b[?25l\u001b[?25hdone\n",
            "  Created wheel for dlx: filename=dlx-1.0.4-cp37-none-any.whl size=5712 sha256=6bf0fd40d84873f6f2bbcacb764fa1e807ccbd950d184072a9951ce989b13e1c\n",
            "  Stored in directory: /root/.cache/pip/wheels/bb/ba/15/fdd0deb104df3254912998150ba9245668db06b00af5912d1a\n",
            "  Building wheel for yfinance (setup.py) ... \u001b[?25l\u001b[?25hdone\n",
            "  Created wheel for yfinance: filename=yfinance-0.1.55-py2.py3-none-any.whl size=22616 sha256=8357625ede78a58d09349079dd4e9fb26794bc678acd14a710429e63d03c3df2\n",
            "  Stored in directory: /root/.cache/pip/wheels/04/98/cc/2702a4242d60bdc14f48b4557c427ded1fe92aedf257d4565c\n",
            "Successfully built qiskit python-constraint docplex dlx yfinance\n",
            "Installing collected packages: ply, retworkx, python-constraint, fastjsonschema, qiskit-terra, pybind11, qiskit-aer, websockets, ntlm-auth, cryptography, requests-ntlm, qiskit-ibmq-provider, qiskit-ignis, docplex, dlx, inflection, quandl, lxml, yfinance, qiskit-aqua, qiskit\n",
            "  Found existing installation: lxml 4.2.6\n",
            "    Uninstalling lxml-4.2.6:\n",
            "      Successfully uninstalled lxml-4.2.6\n",
            "Successfully installed cryptography-3.4.7 dlx-1.0.4 docplex-2.20.204 fastjsonschema-2.15.0 inflection-0.5.1 lxml-4.6.3 ntlm-auth-1.5.0 ply-3.11 pybind11-2.6.2 python-constraint-1.4.0 qiskit-0.25.1 qiskit-aer-0.8.1 qiskit-aqua-0.9.1 qiskit-ibmq-provider-0.12.2 qiskit-ignis-0.6.0 qiskit-terra-0.17.1 quandl-3.6.0 requests-ntlm-1.1.0 retworkx-0.8.0 websockets-8.1 yfinance-0.1.55\n"
          ],
          "name": "stdout"
        }
      ]
    },
    {
      "cell_type": "code",
      "metadata": {
        "id": "gIa_a_VMP58j"
      },
      "source": [
        "##Importing libraries \n",
        "import numpy as np\n",
        "from keras.datasets import mnist\n",
        "from qiskit import *\n",
        "from matplotlib import pyplot as plt \n",
        "import tensorflow as tf\n",
        "import collections\n",
        "from qiskit.circuit import QuantumRegister,ClassicalRegister,QuantumCircuit\n",
        "from qiskit.extensions import UnitaryGate\n"
      ],
      "execution_count": null,
      "outputs": []
    },
    {
      "cell_type": "markdown",
      "metadata": {
        "id": "2Mabf_WUX091"
      },
      "source": [
        "Step #1 Load data set as quantum information"
      ]
    },
    {
      "cell_type": "code",
      "metadata": {
        "id": "lsxWeJzFQYCe"
      },
      "source": [
        "#Global variables \n",
        "orig_img_size = 28\n",
        "img_size = 16\n",
        "interest_num = [0, 1]\n",
        "#Loading the dataset \n",
        "\n",
        "(x_train, y_train), (x_test, y_test) = tf.keras.datasets.mnist.load_data()\n",
        "\n",
        "# Rescale the images from [0,255] to the [0.0,1.0] range.\n",
        "x_train, x_test = x_train[..., np.newaxis]/255.0, x_test[..., np.newaxis]/255.0\n",
        "\n",
        "def filter_36(x, y):\n",
        "    keep = (y == 3) | (y == 6)\n",
        "    x, y = x[keep], y[keep]\n",
        "    y = y == 3\n",
        "    return x,y\n",
        "\n",
        "x_train, y_train = filter_36(x_train, y_train)\n",
        "x_test, y_test = filter_36(x_test, y_test)\n",
        "\n",
        "#print(\"Number of filtered training examples:\", len(x_train))\n",
        "#print(\"Number of filtered test examples:\", len(x_test))\n",
        "\n",
        "print(y_train[0])\n",
        "\n",
        "plt.imshow(x_train[0, :, :, 0])\n",
        "plt.colorbar()\n",
        "\n",
        "x_train_small = tf.image.resize(x_train, (4,4)).numpy()\n",
        "x_test_small = tf.image.resize(x_test, (4,4)).numpy()\n",
        "\n",
        "print(y_train[0])\n",
        "\n",
        "plt.imshow(x_train_small[0,:,:,0], vmin=0, vmax=1)\n",
        "plt.colorbar()\n",
        "##Tuple of nd.arrays \n",
        "def remove_contradicting(xs, ys):\n",
        "    mapping = collections.defaultdict(set)\n",
        "    orig_x = {}\n",
        "    # Determine the set of labels for each unique image:\n",
        "    for x,y in zip(xs,ys):\n",
        "       orig_x[tuple(x.flatten())] = x\n",
        "       mapping[tuple(x.flatten())].add(y)\n",
        "\n",
        "    new_x = []\n",
        "    new_y = []\n",
        "    for flatten_x in mapping:\n",
        "      x = orig_x[flatten_x]\n",
        "      labels = mapping[flatten_x]\n",
        "      if len(labels) == 1:\n",
        "          new_x.append(x)\n",
        "          new_y.append(next(iter(labels)))\n",
        "      else:\n",
        "          # Throw out images that match more than one label.\n",
        "          pass\n",
        "\n",
        "    num_uniq_3 = sum(1 for value in mapping.values() if len(value) == 1 and True in value)\n",
        "    num_uniq_6 = sum(1 for value in mapping.values() if len(value) == 1 and False in value)\n",
        "    num_uniq_both = sum(1 for value in mapping.values() if len(value) == 2)\n",
        "\n",
        "    #print(\"Number of unique images:\", len(mapping.values()))\n",
        "    #print(\"Number of unique 3s: \", num_uniq_3)\n",
        "    #print(\"Number of unique 6s: \", num_uniq_6)\n",
        "    #print(\"Number of unique contradicting labels (both 3 and 6): \", num_uniq_both)\n",
        "    #print()\n",
        "    #print(\"Initial number of images: \", len(xs))\n",
        "    #print(\"Remaining non-contradicting unique images: \", len(new_x))\n",
        "\n",
        "    #print(\"New x values\", np.array(new_x))\n",
        "    return np.array(new_x), np.array(new_y)\n",
        "\n",
        "\n",
        "x_train_nocon, y_train_nocon = remove_contradicting(x_train_small, y_train)\n",
        "\n",
        "list_of_points = []\n",
        "for datapoint in x_train_nocon:\n",
        "    conv_data_matrix = EncodeUnitaryMatrix(datapoint).get_unitary_gate()\n",
        "    list_of_points.append(conv_data_matrix)\n"
      ],
      "execution_count": null,
      "outputs": []
    },
    {
      "cell_type": "markdown",
      "metadata": {
        "id": "2yBAeuJCDtMQ"
      },
      "source": [
        "Auto encode data onto quantum states to prepare for quantum circuit. "
      ]
    },
    {
      "cell_type": "code",
      "metadata": {
        "id": "Ob73MncLttHu"
      },
      "source": [
        "###Auto-encoder \n",
        "##Encoding class to encode quantum data \n",
        "class EncodeUnitaryMatrix():\n",
        "    def __init__(self,data):\n",
        "        self.data = data\n",
        "    # Check if a matrix is unitary using this function\n",
        "    def is_unitary(self,m):\n",
        "        return np.allclose(np.eye(len(m)), m.dot(m.T.conj()))\n",
        "    def to_unitary_matrix(self):\n",
        "        qm = self.toQuantumMatrix(self.data)\n",
        "        qv =self.toQuantumData(self.data)\n",
        "        self.data_matrix = np.array(qm)\n",
        "        self.data_vector = np.array(qv)\n",
        "    # Converting classical data to quantum data\n",
        "    def toQuantumData(self,data):\n",
        "        input_vec = data.copy().ravel()\n",
        "        vec_len = input_vec.shape[0]\n",
        "        input_matrix = np.zeros((vec_len, vec_len))\n",
        "        input_matrix[0] = input_vec\n",
        "        input_matrix = np.float64(input_matrix.transpose(0, 1))\n",
        "        u, s, v = np.linalg.svd(input_matrix)\n",
        "        output_matrix = np.dot(u, v)\n",
        "        output_matrix = output_matrix\n",
        "        output_data = output_matrix[0, :]\n",
        "        print(output_data)\n",
        "        return output_data\n",
        "    # Converting classical data to quantum matrix\n",
        "    def toQuantumMatrix(self,data):\n",
        "        input_vec = data.flatten()\n",
        "        vec_len = input_vec.shape[0]\n",
        "        input_matrix = np.zeros((vec_len,vec_len))\n",
        "        input_matrix[0] = input_vec\n",
        "        input_matrix = input_matrix.T\n",
        "        u, s, v = np.linalg.svd(input_matrix)\n",
        "        output_matrix = np.dot(u, v)\n",
        "        return output_matrix\n",
        "    def get_data(self):\n",
        "        return self.data\n",
        "    def get_unitary_gate(self):\n",
        "        self.to_unitary_matrix()\n",
        "        return self.data_matrix\n",
        "    def get_quantum_data(self):\n",
        "        self.to_unitary_matrix()\n",
        "        return self.data_vector\n",
        "data = EncodeUnitaryMatrix(x_train_nocon[0])\n",
        "conv_data_matrix,conv_data_statevector = (data.get_unitary_gate(),data.get_quantum_data)\n"
      ],
      "execution_count": null,
      "outputs": []
    },
    {
      "cell_type": "code",
      "metadata": {
        "id": "a0yiDx1gRt2h"
      },
      "source": [
        "# Load data, resize data , call Sam's encoded function for the quantum circuit, use swap test at"
      ],
      "execution_count": null,
      "outputs": []
    },
    {
      "cell_type": "markdown",
      "metadata": {
        "id": "nJyuI16EhPlc"
      },
      "source": [
        "Applying RY gate to circuit. "
      ]
    },
    {
      "cell_type": "code",
      "metadata": {
        "id": "CzQYpmmGBfMf"
      },
      "source": [
        "def RY(circuit,values):\n",
        "  for i,val in enumerate(values):\n",
        "    circuit.ry(val,i+1)\n",
        "\n",
        "def CRY(circuit,values):\n",
        "  for i in range(len(values)):\n",
        "    if i == len(values):\n",
        "      circuit.cry(values[-1],i+2, i+2)\n",
        "    circuit.cry(values[i],i+1, i+2)"
      ],
      "execution_count": 9,
      "outputs": []
    },
    {
      "cell_type": "markdown",
      "metadata": {
        "id": "Do1O0UephILE"
      },
      "source": [
        "Apply CRY gate to circuit.  "
      ]
    },
    {
      "cell_type": "code",
      "metadata": {
        "colab": {
          "base_uri": "https://localhost:8080/"
        },
        "id": "qJPntguC09hL",
        "outputId": "29180519-b9fe-4571-9912-a070e574f90a"
      },
      "source": [
        "import \n",
        "data = EncodeUnitaryMatrix(x_train_nocon)\n",
        "import qiskit\n",
        "import copy\n",
        "from qiskit.extensions import XGate, UnitaryGate\n",
        "#data being applied to encode unitary matrix\n",
        "data = EncodeUnitaryMatrix(x_train_nocon)\n",
        "##data matrix\n",
        "#conv_data_matrix,conv_data_statevector = (data.get_unitary_gate(),data.get_quantum_data)\n",
        "##Shape of data matrix\n",
        "###Take a data point\n",
        "#Variable bank (random array multiplied by pi, 16 by 16)\n",
        "variables = [np.random.rand()*np.pi for _ in range(16)]\n",
        "##Takes a data point and matrix and applies a circuit\n",
        "def encode_circuit_init(variables, conv_data_matrix):\n",
        "#Qubit register\n",
        "  qubits = QuantumRegister(9)\n",
        "#Classical register\n",
        "  cbits = ClassicalRegister(1)\n",
        "## Builds the Circuit\n",
        "  circ = QuantumCircuit(qubits)\n",
        "  circ.add_register(cbits)\n",
        "##Appending the unitary gate to the circuit\n",
        "  circ.append(UnitaryGate(conv_data_matrix),qubits[1:5])\n",
        "  circ.append(UnitaryGate(conv_data_matrix),qubits[5:9])\n",
        "##Applying the RY and CRY function\n",
        "  RY(circ, variables[0:4])\n",
        "  CRY(circ,variables[5:9])\n",
        "##Resetting the first and second qubit\n",
        "  circ.reset(1)\n",
        "  circ.reset(2)\n",
        "##Applying the RY and CRY function\n",
        "  RY(circ, variables[8:12])\n",
        "  CRY(circ, variables[12:16])\n",
        "  circ.h(0)\n",
        "  sim = Aer.get_backend('qasm_simulator')\n",
        "  [circ.cswap(0,i+1,i+5) for i in range(4)]\n",
        "  circ.h(0)\n",
        "  circ.measure(0,0)\n",
        "  return circ\n",
        "##print(circ.draw())\n",
        "#encode_circuit_init(variables, conv_data_matrix)\n",
        "#Variable for simulator\n",
        "simulator = Aer.get_backend('qasm_simulator')\n",
        "##Function : Calculates Quantum Fidelity from circuit and data matrix\n",
        "def get_probabilities(circ,counts=7500):\n",
        "    job = execute(circ, backend = simulator , shots=counts)\n",
        "    results = job.result().get_counts(circ)\n",
        "    try:\n",
        "        prob = results['0']/(results['1']+results['0'])\n",
        "        prob = (prob-0.5)\n",
        "        if prob <= 0.005:\n",
        "            prob = 0.005\n",
        "        else:\n",
        "            prob = prob*2\n",
        "    except:\n",
        "        prob = 1\n",
        "    return prob\n",
        "##Function purpose: Loops over data points and retrieves gradient from circuit and data matrix\n",
        "list_of_points = list_of_points[:500]\n",
        "#Looping 50 times\n",
        "for epoch in range(0, 5):\n",
        "    avg_fidelity = []\n",
        "#Loop over data points\n",
        "    for data in list_of_points:\n",
        "        ## Loops over variable bank\n",
        "        for j in range(len(variables)):\n",
        "            ##Copies over variable bank\n",
        "            theta = copy.deepcopy(variables)\n",
        "            theta_1,theta_2 = theta,theta\n",
        "            #Stores theta values\n",
        "            theta_1[j] += np.pi/2\n",
        "            theta_2[j] -= np.pi/2\n",
        "            ##Appends theta values to list to apply to gate\n",
        "            ##Build circuit 1 with theta variable measure fidelity\n",
        "            circuit1 = get_probabilities(encode_circuit_init(theta_1 , data))\n",
        "            #print(encode_circuit_init(theta_2 , conv_data_matrix))\n",
        "            ##Build circuit 2 measure fidelity\n",
        "            circuit2 = get_probabilities(encode_circuit_init(theta_2 , data))\n",
        "            ##Gradient = fidelity(circuit 1) - fidelity(circuit 2) / 2\n",
        "            gradient = (circuit1 - circuit2) / 2\n",
        "            #print(\"Gradient {}\".format(gradient))\n",
        "            ## Updating values in variable bank\n",
        "            variables[j] += gradient * 0.4\n",
        "            print(f\"Gate {j} Updated by {gradient*0.4}\")\n",
        "            if epoch%2==0 and epoch>4:\n",
        "                avg_fidelity.append(get_probabilities(encode_circuit_init(variables , conv_data_matrix)))\n",
        "    print(f\"Average Fidelity: {np.array(avg_fidelity)}\")\n",
        "\n",
        "\n"
      ],
      "execution_count": null,
      "outputs": [
        {
          "output_type": "stream",
          "text": [
            "Gate 5 Updated by 0.0022400000000000198\n",
            "Gate 6 Updated by 0.0\n",
            "Gate 7 Updated by -0.0019200000000000107\n",
            "Gate 8 Updated by 0.0\n",
            "Gate 9 Updated by -0.002506666666666657\n",
            "Gate 10 Updated by 0.0054000000000000055\n",
            "Gate 11 Updated by -0.0011200000000000099\n",
            "Gate 12 Updated by -0.0033200000000000126\n",
            "Gate 13 Updated by -0.0038000000000000043\n",
            "Gate 14 Updated by 0.002946666666666676\n",
            "Gate 15 Updated by 0.0014933333333333023\n",
            "Gate 0 Updated by 0.00010666666666665493\n",
            "Gate 1 Updated by -0.0008533333333333282\n",
            "Gate 2 Updated by -0.0017066666666666565\n",
            "Gate 3 Updated by 0.00010666666666665493\n",
            "Gate 4 Updated by 0.0027200000000000115\n",
            "Gate 5 Updated by 0.002079999999999993\n",
            "Gate 6 Updated by -0.0001599999999999824\n",
            "Gate 7 Updated by 0.0011733333333333374\n",
            "Gate 8 Updated by -0.00047999999999999156\n",
            "Gate 9 Updated by 0.002986666666666693\n",
            "Gate 10 Updated by -0.0001599999999999824\n",
            "Gate 11 Updated by -0.0009600000000000276\n",
            "Gate 12 Updated by 0.0015466666666666296\n",
            "Gate 13 Updated by -0.001226666666666665\n",
            "Gate 14 Updated by 0.0010133333333333105\n",
            "Gate 15 Updated by 0.0016533333333333734\n",
            "Gate 0 Updated by -0.0022933333333333473\n",
            "Gate 1 Updated by -0.003893333333333349\n"
          ],
          "name": "stdout"
        }
      ]
    },
    {
      "cell_type": "code",
      "metadata": {
        "id": "DELiJlotcj_p"
      },
      "source": [
        ""
      ],
      "execution_count": null,
      "outputs": []
    }
  ]
}