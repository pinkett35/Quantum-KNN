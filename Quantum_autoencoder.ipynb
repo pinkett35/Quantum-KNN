{
  "nbformat": 4,
  "nbformat_minor": 0,
  "metadata": {
    "colab": {
      "name": "Quantum_autoencoder.ipynb",
      "provenance": [],
      "collapsed_sections": [],
      "include_colab_link": true
    },
    "kernelspec": {
      "display_name": "Python 3",
      "name": "python3"
    },
    "language_info": {
      "name": "python"
    }
  },
  "cells": [
    {
      "cell_type": "markdown",
      "metadata": {
        "id": "view-in-github",
        "colab_type": "text"
      },
      "source": [
        "<a href=\"https://colab.research.google.com/github/pinkett35/Quantum-KNN/blob/main/Quantum_autoencoder.ipynb\" target=\"_parent\"><img src=\"https://colab.research.google.com/assets/colab-badge.svg\" alt=\"Open In Colab\"/></a>"
      ]
    },
    {
      "cell_type": "code",
      "metadata": {
        "id": "oKYdpbh5Ggut"
      },
      "source": [
        "pip install qiskit"
      ],
      "execution_count": null,
      "outputs": []
    },
    {
      "cell_type": "code",
      "metadata": {
        "id": "gIa_a_VMP58j"
      },
      "source": [
        "##Importing libraries \n",
        "import numpy as np\n",
        "from keras.datasets import mnist\n",
        "from qiskit import *\n",
        "from matplotlib import pyplot as plt \n",
        "import tensorflow as tf\n",
        "import collections\n",
        "from qiskit.circuit import QuantumRegister,ClassicalRegister,QuantumCircuit\n",
        "from qiskit.extensions import UnitaryGate\n"
      ],
      "execution_count": null,
      "outputs": []
    },
    {
      "cell_type": "markdown",
      "metadata": {
        "id": "2Mabf_WUX091"
      },
      "source": [
        "Step #1 Load data set as quantum information"
      ]
    },
    {
      "cell_type": "code",
      "metadata": {
        "id": "lsxWeJzFQYCe"
      },
      "source": [
        "#Loading the dataset \n",
        "\n",
        "(x_train, y_train), (x_test, y_test) = tf.keras.datasets.mnist.load_data()\n",
        "\n",
        "# Rescale the images from [0,255] to the [0.0,1.0] range.\n",
        "x_train, x_test = x_train[..., np.newaxis]/255.0, x_test[..., np.newaxis]/255.0\n",
        "\n",
        "def filter_36(x, y):\n",
        "    keep = (y == 3) | (y == 6)\n",
        "    x, y = x[keep], y[keep]\n",
        "    y = y == 3\n",
        "    return x,y\n",
        "\n",
        "x_train, y_train = filter_36(x_train, y_train)\n",
        "x_test, y_test = filter_36(x_test, y_test)\n",
        "\n",
        "#print(\"Number of filtered training examples:\", len(x_train))\n",
        "#print(\"Number of filtered test examples:\", len(x_test))\n",
        "\n",
        "print(y_train[0])\n",
        "\n",
        "plt.imshow(x_train[0, :, :, 0])\n",
        "plt.colorbar()\n",
        "\n",
        "x_train_small = tf.image.resize(x_train, (4,4)).numpy()\n",
        "x_test_small = tf.image.resize(x_test, (4,4)).numpy()\n",
        "\n",
        "print(y_train[0])\n",
        "\n",
        "plt.imshow(x_train_small[0,:,:,0], vmin=0, vmax=1)\n",
        "plt.colorbar()\n",
        "##Tuple of nd.arrays \n",
        "def remove_contradicting(xs, ys):\n",
        "    mapping = collections.defaultdict(set)\n",
        "    orig_x = {}\n",
        "    # Determine the set of labels for each unique image:\n",
        "    for x,y in zip(xs,ys):\n",
        "       orig_x[tuple(x.flatten())] = x\n",
        "       mapping[tuple(x.flatten())].add(y)\n",
        "\n",
        "    new_x = []\n",
        "    new_y = []\n",
        "    for flatten_x in mapping:\n",
        "      x = orig_x[flatten_x]\n",
        "      labels = mapping[flatten_x]\n",
        "      if len(labels) == 1:\n",
        "          new_x.append(x)\n",
        "          new_y.append(next(iter(labels)))\n",
        "      else:\n",
        "          # Throw out images that match more than one label.\n",
        "          pass\n",
        "\n",
        "    num_uniq_3 = sum(1 for value in mapping.values() if len(value) == 1 and True in value)\n",
        "    num_uniq_6 = sum(1 for value in mapping.values() if len(value) == 1 and False in value)\n",
        "    num_uniq_both = sum(1 for value in mapping.values() if len(value) == 2)\n",
        "\n",
        "    #print(\"Number of unique images:\", len(mapping.values()))\n",
        "    #print(\"Number of unique 3s: \", num_uniq_3)\n",
        "    #print(\"Number of unique 6s: \", num_uniq_6)\n",
        "    #print(\"Number of unique contradicting labels (both 3 and 6): \", num_uniq_both)\n",
        "    #print()\n",
        "    #print(\"Initial number of images: \", len(xs))\n",
        "    #print(\"Remaining non-contradicting unique images: \", len(new_x))\n",
        "\n",
        "    #print(\"New x values\", np.array(new_x))\n",
        "    return np.array(new_x), np.array(new_y)\n",
        "\n",
        "\n",
        "x_train_nocon, y_train_nocon = remove_contradicting(x_train_small, y_train)\n"
      ],
      "execution_count": null,
      "outputs": []
    },
    {
      "cell_type": "markdown",
      "metadata": {
        "id": "2yBAeuJCDtMQ"
      },
      "source": [
        "Auto encode data onto quantum states to prepare for quantum circuit. "
      ]
    },
    {
      "cell_type": "code",
      "metadata": {
        "id": "Ob73MncLttHu"
      },
      "source": [
        "###Auto-encoder \n",
        "##Encoding class to encode quantum data \n",
        "class EncodeUnitaryMatrix():\n",
        "    def __init__(self,data):\n",
        "        self.data = data\n",
        "    # Check if a matrix is unitary using this function\n",
        "    def is_unitary(self,m):\n",
        "        return np.allclose(np.eye(len(m)), m.dot(m.T.conj()))\n",
        "    def to_unitary_matrix(self):\n",
        "        qm = self.toQuantumMatrix(self.data)\n",
        "        qv =self.toQuantumData(self.data)\n",
        "        self.data_matrix = np.array(qm)\n",
        "        self.data_vector = np.array(qv)\n",
        "    # Converting classical data to quantum data\n",
        "    def toQuantumData(self,data):\n",
        "        input_vec = data.copy().ravel()\n",
        "        vec_len = input_vec.shape[0]\n",
        "        input_matrix = np.zeros((vec_len, vec_len))\n",
        "        input_matrix[0] = input_vec\n",
        "        input_matrix = np.float64(input_matrix.transpose(0, 1))\n",
        "        u, s, v = np.linalg.svd(input_matrix)\n",
        "        output_matrix = np.dot(u, v)\n",
        "        output_matrix = output_matrix\n",
        "        output_data = output_matrix[0, :]\n",
        "        print(output_data)\n",
        "        return output_data\n",
        "    # Converting classical data to quantum matrix\n",
        "    def toQuantumMatrix(self,data):\n",
        "        input_vec = data.flatten()\n",
        "        vec_len = input_vec.shape[0]\n",
        "        input_matrix = np.zeros((vec_len,vec_len))\n",
        "        input_matrix[0] = input_vec\n",
        "        input_matrix = input_matrix.T\n",
        "        u, s, v = np.linalg.svd(input_matrix)\n",
        "        output_matrix = np.dot(u, v)\n",
        "        return output_matrix\n",
        "    def get_data(self):\n",
        "        return self.data\n",
        "    def get_unitary_gate(self):\n",
        "        self.to_unitary_matrix()\n",
        "        return self.data_matrix\n",
        "    def get_quantum_data(self):\n",
        "        self.to_unitary_matrix()\n",
        "        return self.data_vector\n",
        "data = EncodeUnitaryMatrix(x_train_nocon[0])\n",
        "conv_data_matrix,conv_data_statevector = (data.get_unitary_gate(),data.get_quantum_data)\n",
        "\n",
        "list_of_points = []\n",
        "for datapoint in x_train_nocon:\n",
        "    conv_data_matrix = EncodeUnitaryMatrix(datapoint).get_unitary_gate()\n",
        "    list_of_points.append(conv_data_matrix)"
      ],
      "execution_count": null,
      "outputs": []
    },
    {
      "cell_type": "code",
      "metadata": {
        "id": "a0yiDx1gRt2h"
      },
      "source": [
        "# Load data, resize data , call Sam's encoded function for the quantum circuit, use swap test at"
      ],
      "execution_count": null,
      "outputs": []
    },
    {
      "cell_type": "markdown",
      "metadata": {
        "id": "nJyuI16EhPlc"
      },
      "source": [
        "Applying RY gate to circuit. "
      ]
    },
    {
      "cell_type": "code",
      "metadata": {
        "id": "CzQYpmmGBfMf"
      },
      "source": [
        "def RY(circuit,values):\n",
        "  for i,val in enumerate(values):\n",
        "    circuit.ry(val,i+1)\n",
        "\n",
        "def CRY(circuit,values):\n",
        "  for i in range(len(values)):\n",
        "    if i == len(values):\n",
        "      circuit.cry(values[-1],i+2, i+2)\n",
        "    circuit.cry(values[i],i+1, i+2)"
      ],
      "execution_count": 9,
      "outputs": []
    },
    {
      "cell_type": "markdown",
      "metadata": {
        "id": "Do1O0UephILE"
      },
      "source": [
        "Apply CRY gate to circuit.  "
      ]
    },
    {
      "cell_type": "code",
      "metadata": {
        "colab": {
          "base_uri": "https://localhost:8080/"
        },
        "id": "qJPntguC09hL",
        "outputId": "4142862b-f00c-48f8-f9e6-7403132315aa"
      },
      "source": [
        "import qiskit\n",
        "import copy\n",
        "from qiskit.extensions import XGate, UnitaryGate\n",
        "import matplotlib.pyplot as plt\n",
        "#data being applied to encode unitary matrix\n",
        "data = EncodeUnitaryMatrix(x_train_nocon)\n",
        "##data matrix\n",
        "#conv_data_matrix,conv_data_statevector = (data.get_unitary_gate(),data.get_quantum_data)\n",
        "##Shape of data matrix\n",
        "###Take a data point\n",
        "#Variable bank (random array multiplied by pi, 16 by 16)\n",
        "variables = [np.random.rand()*np.pi for _ in range(16)]\n",
        "##Takes a data point and matrix and applies a circuit\n",
        "def encode_circuit_init(variables, conv_data_matrix):\n",
        "#Qubit register\n",
        "  qubits = QuantumRegister(9)\n",
        "#Classical register\n",
        "  cbits = ClassicalRegister(1)\n",
        "## Builds the Circuit\n",
        "  circ = QuantumCircuit(qubits)\n",
        "  circ.add_register(cbits)\n",
        "##Appending the unitary gate to the circuit\n",
        "  circ.append(UnitaryGate(conv_data_matrix),qubits[1:5])\n",
        "  circ.append(UnitaryGate(conv_data_matrix),qubits[5:9])\n",
        "##Applying the RY and CRY function\n",
        "  RY(circ, variables[0:4])\n",
        "  CRY(circ,variables[5:9])\n",
        "##Resetting the first and second qubit\n",
        "  circ.reset(1)\n",
        "  circ.reset(2)\n",
        "##Applying the RY and CRY function\n",
        "  RY(circ, variables[8:12])\n",
        "  CRY(circ, variables[12:16])\n",
        "  circ.h(0)\n",
        "  sim = Aer.get_backend('qasm_simulator')\n",
        "  [circ.cswap(0,i+1,i+5) for i in range(4)]\n",
        "  circ.h(0)\n",
        "  circ.measure(0,0)\n",
        "  return circ\n",
        "##print(circ.draw())\n",
        "#encode_circuit_init(variables, conv_data_matrix)\n",
        "#Variable for simulator\n",
        "simulator = Aer.get_backend('qasm_simulator')\n",
        "\n",
        "##Function : Calculates Quantum Fidelity from circuit and data matrix\n",
        "def get_probabilities(circ,counts=7500):\n",
        "    job = execute(circ, backend = simulator , shots=counts)\n",
        "    results = job.result().get_counts(circ)\n",
        "    try:\n",
        "        prob = results['0']/(results['1']+results['0'])\n",
        "        prob = (prob-0.5)\n",
        "        if prob <= 0.005:\n",
        "            prob = 0.005\n",
        "        else:\n",
        "            prob = prob*2\n",
        "    except:\n",
        "        prob = 1\n",
        "    return prob\n",
        "##Function purpose: Loops over data points and retrieves gradient from circuit and data matrix\n",
        "list_of_points = list_of_points[:5]\n",
        "#Looping 50 times\n",
        "for epoch in range(0, 2):\n",
        "    avg_fidelity = []\n",
        "#Loop over data points\n",
        "    for data in list_of_points:\n",
        "        ## Loops over variable bank\n",
        "        for j in range(len(variables)):\n",
        "            ##Copies over variable bank\n",
        "            theta = copy.deepcopy(variables)\n",
        "            theta_1,theta_2 = theta,theta\n",
        "            #Stores theta values\n",
        "            theta_1[j] += np.pi/2\n",
        "            theta_2[j] -= np.pi/2\n",
        "            ##Appends theta values to list to apply to gate\n",
        "            ##Build circuit 1 with theta variable measure fidelity\n",
        "            circuit1 = get_probabilities(encode_circuit_init(theta_1 , data))\n",
        "            #print(encode_circuit_init(theta_2 , conv_data_matrix))\n",
        "            ##Build circuit 2 measure fidelity\n",
        "            circuit2 = get_probabilities(encode_circuit_init(theta_2 , data))\n",
        "            ##Gradient = fidelity(circuit 1) - fidelity(circuit 2) / 2\n",
        "            gradient = (circuit1 - circuit2) / 2\n",
        "            #print(\"Gradient {}\".format(gradient))\n",
        "            ## Updating values in variable bank\n",
        "            variables[j] += gradient * 0.4\n",
        "            print(f\"Gate {j} Updated by {gradient*0.4}\")\n",
        "            if epoch%2==0 and epoch>4:\n",
        "                avg_fidelity.append(get_probabilities(encode_circuit_init(variables , conv_data_matrix)))\n",
        "    print(f\"Average Fidelity: {np.average(avg_fidelity)}\")\n",
        "\n",
        "###Graphing the Quantum Fidelity \n",
        "x = np.arange(1, 10, 1)\n",
        "y = np.mean(avg_fidelity)\n",
        "\n",
        "plt.title(\"Average Quantum Fidelity\")\n",
        "plt.xlabel(\"Iterations\")\n",
        "plt.ylabel(\"Average Fidelity\")\n",
        "plt.plot(x, y)\n",
        "\n",
        "\n"
      ],
      "execution_count": null,
      "outputs": [
        {
          "output_type": "stream",
          "text": [
            "Gate 0 Updated by 0.0046399999999999775\n",
            "Gate 1 Updated by 0.0003199999999999648\n",
            "Gate 2 Updated by 0.0015999999999999571\n",
            "Gate 3 Updated by 0.005600000000000005\n",
            "Gate 4 Updated by -0.0040533333333333315\n",
            "Gate 5 Updated by -0.0013866666666666916\n",
            "Gate 6 Updated by 0.0023466666666666306\n",
            "Gate 7 Updated by 0.0012799999999999923\n",
            "Gate 8 Updated by 0.004106666666666659\n",
            "Gate 9 Updated by -0.00047999999999999156\n",
            "Gate 10 Updated by 0.0013333333333333643\n",
            "Gate 11 Updated by 0.0026133333333333564\n",
            "Gate 12 Updated by -0.004853333333333332\n",
            "Gate 13 Updated by 0.0007466666666666733\n",
            "Gate 14 Updated by 0.0026666666666666397\n",
            "Gate 15 Updated by 0.003733333333333322\n",
            "Gate 0 Updated by -0.0015466666666666296\n",
            "Gate 1 Updated by 0.0030399999999999763\n",
            "Gate 2 Updated by -0.003093333333333348\n",
            "Gate 3 Updated by -0.004320000000000013\n",
            "Gate 4 Updated by 0.0022399999999999755\n",
            "Gate 5 Updated by -0.008053333333333334\n",
            "Gate 6 Updated by 0.006400000000000006\n",
            "Gate 7 Updated by 0.0026133333333333564\n",
            "Gate 8 Updated by 0.00021333333333335426\n",
            "Gate 9 Updated by 0.0004266666666666641\n",
            "Gate 10 Updated by 0.005386666666666696\n",
            "Gate 11 Updated by -0.0026666666666666397\n",
            "Gate 12 Updated by 0.0006399999999999739\n",
            "Gate 13 Updated by -0.0006933333333333458\n",
            "Gate 14 Updated by 0.0014400000000000192\n",
            "Gate 15 Updated by -0.004106666666666703\n",
            "Gate 0 Updated by 0.0\n",
            "Gate 1 Updated by 0.0\n",
            "Gate 2 Updated by 0.0\n",
            "Gate 3 Updated by 0.0\n",
            "Gate 4 Updated by 0.0\n",
            "Gate 5 Updated by 0.0\n",
            "Gate 6 Updated by 0.0\n",
            "Gate 7 Updated by 0.0\n",
            "Gate 8 Updated by 0.001506666666666657\n",
            "Gate 9 Updated by -0.0015599999999999846\n",
            "Gate 10 Updated by 0.0\n",
            "Gate 11 Updated by 0.0\n",
            "Gate 12 Updated by -0.0030000000000000035\n",
            "Gate 13 Updated by 0.0\n",
            "Gate 14 Updated by 0.0\n",
            "Gate 15 Updated by 0.0\n",
            "Gate 0 Updated by -0.0034666666666666847\n",
            "Gate 1 Updated by -0.0021333333333333204\n",
            "Gate 2 Updated by 0.001066666666666638\n",
            "Gate 3 Updated by -0.00047999999999999156\n",
            "Gate 4 Updated by 0.0014400000000000192\n",
            "Gate 5 Updated by -0.005013333333333314\n",
            "Gate 6 Updated by 0.0010666666666666825\n",
            "Gate 7 Updated by 0.0018133333333333558\n",
            "Gate 8 Updated by -0.0039466666666666764\n",
            "Gate 9 Updated by 0.003413333333333313\n",
            "Gate 10 Updated by 0.0033599999999999854\n",
            "Gate 11 Updated by 0.0014933333333333465\n",
            "Gate 12 Updated by 0.007413333333333317\n",
            "Gate 13 Updated by 0.0017599999999999838\n",
            "Gate 14 Updated by 0.0028799999999999937\n",
            "Gate 15 Updated by -0.0027200000000000115\n",
            "Gate 0 Updated by -0.0034666666666666847\n",
            "Gate 1 Updated by -0.00010666666666665493\n",
            "Gate 2 Updated by -0.0036799999999999945\n",
            "Gate 3 Updated by 0.0008533333333333726\n",
            "Gate 4 Updated by 0.00714666666666668\n",
            "Gate 5 Updated by 0.0007466666666666733\n"
          ],
          "name": "stdout"
        }
      ]
    }
  ]
}