{
  "nbformat": 4,
  "nbformat_minor": 0,
  "metadata": {
    "colab": {
      "name": "Quantum_autoencoder.ipynb",
      "provenance": [],
      "collapsed_sections": [],
      "include_colab_link": true
    },
    "kernelspec": {
      "display_name": "Python 3",
      "name": "python3"
    },
    "language_info": {
      "name": "python"
    }
  },
  "cells": [
    {
      "cell_type": "markdown",
      "metadata": {
        "id": "view-in-github",
        "colab_type": "text"
      },
      "source": [
        "<a href=\"https://colab.research.google.com/github/pinkett35/Quantum-KNN/blob/main/Quantum_autoencoder.ipynb\" target=\"_parent\"><img src=\"https://colab.research.google.com/assets/colab-badge.svg\" alt=\"Open In Colab\"/></a>"
      ]
    },
    {
      "cell_type": "code",
      "metadata": {
        "id": "oKYdpbh5Ggut"
      },
      "source": [
        "pip install qiskit"
      ],
      "execution_count": null,
      "outputs": []
    },
    {
      "cell_type": "code",
      "metadata": {
        "id": "gIa_a_VMP58j"
      },
      "source": [
        "##Importing libraries \n",
        "import numpy as np\n",
        "from keras.datasets import mnist\n",
        "from qiskit import *\n",
        "from matplotlib import pyplot as plt \n",
        "import tensorflow as tf\n",
        "import collections\n",
        "from qiskit.circuit import QuantumRegister,ClassicalRegister,QuantumCircuit\n",
        "from qiskit.extensions import UnitaryGate\n"
      ],
      "execution_count": 3,
      "outputs": []
    },
    {
      "cell_type": "markdown",
      "metadata": {
        "id": "2Mabf_WUX091"
      },
      "source": [
        "Step #1 Load data set as quantum information"
      ]
    },
    {
      "cell_type": "code",
      "metadata": {
        "id": "lsxWeJzFQYCe",
        "colab": {
          "base_uri": "https://localhost:8080/",
          "height": 336
        },
        "outputId": "ec1a4e89-c14e-4f4d-8207-bdbb40449834"
      },
      "source": [
        "#Loading the dataset \n",
        "\n",
        "(x_train, y_train), (x_test, y_test) = tf.keras.datasets.mnist.load_data()\n",
        "\n",
        "# Rescale the images from [0,255] to the [0.0,1.0] range.\n",
        "x_train, x_test = x_train[..., np.newaxis]/255.0, x_test[..., np.newaxis]/255.0\n",
        "\n",
        "def filter_36(x, y):\n",
        "    keep = (y == 3) | (y == 6)\n",
        "    x, y = x[keep], y[keep]\n",
        "    y = y == 3\n",
        "    return x,y\n",
        "\n",
        "x_train, y_train = filter_36(x_train, y_train)\n",
        "x_test, y_test = filter_36(x_test, y_test)\n",
        "\n",
        "#print(\"Number of filtered training examples:\", len(x_train))\n",
        "#print(\"Number of filtered test examples:\", len(x_test))\n",
        "\n",
        "print(y_train[0])\n",
        "\n",
        "plt.imshow(x_train[0, :, :, 0])\n",
        "plt.colorbar()\n",
        "\n",
        "x_train_small = tf.image.resize(x_train, (4,4)).numpy()\n",
        "x_test_small = tf.image.resize(x_test, (4,4)).numpy()\n",
        "\n",
        "print(y_train[0])\n",
        "\n",
        "plt.imshow(x_train_small[0,:,:,0], vmin=0, vmax=1)\n",
        "plt.colorbar()\n",
        "##Tuple of nd.arrays \n",
        "def remove_contradicting(xs, ys):\n",
        "    mapping = collections.defaultdict(set)\n",
        "    orig_x = {}\n",
        "    # Determine the set of labels for each unique image:\n",
        "    for x,y in zip(xs,ys):\n",
        "       orig_x[tuple(x.flatten())] = x\n",
        "       mapping[tuple(x.flatten())].add(y)\n",
        "\n",
        "    new_x = []\n",
        "    new_y = []\n",
        "    for flatten_x in mapping:\n",
        "      x = orig_x[flatten_x]\n",
        "      labels = mapping[flatten_x]\n",
        "      if len(labels) == 1:\n",
        "          new_x.append(x)\n",
        "          new_y.append(next(iter(labels)))\n",
        "      else:\n",
        "          # Throw out images that match more than one label.\n",
        "          pass\n",
        "\n",
        "    num_uniq_3 = sum(1 for value in mapping.values() if len(value) == 1 and True in value)\n",
        "    num_uniq_6 = sum(1 for value in mapping.values() if len(value) == 1 and False in value)\n",
        "    num_uniq_both = sum(1 for value in mapping.values() if len(value) == 2)\n",
        "\n",
        "    #print(\"Number of unique images:\", len(mapping.values()))\n",
        "    #print(\"Number of unique 3s: \", num_uniq_3)\n",
        "    #print(\"Number of unique 6s: \", num_uniq_6)\n",
        "    #print(\"Number of unique contradicting labels (both 3 and 6): \", num_uniq_both)\n",
        "    #print()\n",
        "    #print(\"Initial number of images: \", len(xs))\n",
        "    #print(\"Remaining non-contradicting unique images: \", len(new_x))\n",
        "\n",
        "    #print(\"New x values\", np.array(new_x))\n",
        "    return np.array(new_x), np.array(new_y)\n",
        "\n",
        "\n",
        "x_train_nocon, y_train_nocon = remove_contradicting(x_train_small, y_train)\n"
      ],
      "execution_count": 4,
      "outputs": [
        {
          "output_type": "stream",
          "text": [
            "Downloading data from https://storage.googleapis.com/tensorflow/tf-keras-datasets/mnist.npz\n",
            "11493376/11490434 [==============================] - 0s 0us/step\n",
            "True\n",
            "True\n"
          ],
          "name": "stdout"
        },
        {
          "output_type": "display_data",
          "data": {
            "image/png": "[encoded data removed]",
            "text/plain": [
              "<Figure size 432x288 with 3 Axes>"
            ]
          },
          "metadata": {
            "tags": [],
            "needs_background": "light"
          }
        }
      ]
    },
    {
      "cell_type": "markdown",
      "metadata": {
        "id": "2yBAeuJCDtMQ"
      },
      "source": [
        "Auto encode data onto quantum states to prepare for quantum circuit. "
      ]
    },
    {
      "cell_type": "code",
      "metadata": {
        "id": "Ob73MncLttHu"
      },
      "source": [
        "###Auto-encoder \n",
        "##Encoding class to encode quantum data \n",
        "class EncodeUnitaryMatrix():\n",
        "    def __init__(self,data):\n",
        "        self.data = data\n",
        "    # Check if a matrix is unitary using this function\n",
        "    def is_unitary(self,m):\n",
        "        return np.allclose(np.eye(len(m)), m.dot(m.T.conj()))\n",
        "    def to_unitary_matrix(self):\n",
        "        qm = self.toQuantumMatrix(self.data)\n",
        "        qv =self.toQuantumData(self.data)\n",
        "        self.data_matrix = np.array(qm)\n",
        "        self.data_vector = np.array(qv)\n",
        "    # Converting classical data to quantum data\n",
        "    def toQuantumData(self,data):\n",
        "        input_vec = data.copy().ravel()\n",
        "        vec_len = input_vec.shape[0]\n",
        "        input_matrix = np.zeros((vec_len, vec_len))\n",
        "        input_matrix[0] = input_vec\n",
        "        input_matrix = np.float64(input_matrix.transpose(0, 1))\n",
        "        u, s, v = np.linalg.svd(input_matrix)\n",
        "        output_matrix = np.dot(u, v)\n",
        "        output_matrix = output_matrix\n",
        "        output_data = output_matrix[0, :]\n",
        "        print(output_data)\n",
        "        return output_data\n",
        "    # Converting classical data to quantum matrix\n",
        "    def toQuantumMatrix(self,data):\n",
        "        input_vec = data.flatten()\n",
        "        vec_len = input_vec.shape[0]\n",
        "        input_matrix = np.zeros((vec_len,vec_len))\n",
        "        input_matrix[0] = input_vec\n",
        "        input_matrix = input_matrix.T\n",
        "        u, s, v = np.linalg.svd(input_matrix)\n",
        "        output_matrix = np.dot(u, v)\n",
        "        return output_matrix\n",
        "    def get_data(self):\n",
        "        return self.data\n",
        "    def get_unitary_gate(self):\n",
        "        self.to_unitary_matrix()\n",
        "        return self.data_matrix\n",
        "    def get_quantum_data(self):\n",
        "        self.to_unitary_matrix()\n",
        "        return self.data_vector\n",
        "data = EncodeUnitaryMatrix(x_train_nocon[0])\n",
        "conv_data_matrix,conv_data_statevector = (data.get_unitary_gate(),data.get_quantum_data)\n",
        "\n",
        "list_of_points = []\n",
        "for datapoint in x_train_nocon:\n",
        "    conv_data_matrix = EncodeUnitaryMatrix(datapoint).get_unitary_gate()\n",
        "    list_of_points.append(conv_data_matrix)"
      ],
      "execution_count": null,
      "outputs": []
    },
    {
      "cell_type": "code",
      "metadata": {
        "id": "a0yiDx1gRt2h"
      },
      "source": [
        "# Load data, resize data , call Sam's encoded function for the quantum circuit, use swap test at"
      ],
      "execution_count": null,
      "outputs": []
    },
    {
      "cell_type": "markdown",
      "metadata": {
        "id": "nJyuI16EhPlc"
      },
      "source": [
        "Applying RY gate to circuit. "
      ]
    },
    {
      "cell_type": "code",
      "metadata": {
        "id": "CzQYpmmGBfMf"
      },
      "source": [
        "def RY(circuit,values):\n",
        "  for i,val in enumerate(values):\n",
        "    circuit.ry(val,i+1)\n",
        "\n",
        "def CRY(circuit,values):\n",
        "  for i in range(len(values)):\n",
        "    if i == len(values):\n",
        "      circuit.cry(values[-1],i+2, i+2)\n",
        "    circuit.cry(values[i],i+1, i+2)"
      ],
      "execution_count": 6,
      "outputs": []
    },
    {
      "cell_type": "markdown",
      "metadata": {
        "id": "Do1O0UephILE"
      },
      "source": [
        "Apply CRY gate to circuit.  "
      ]
    },
    {
      "cell_type": "code",
      "metadata": {
        "id": "qJPntguC09hL",
        "colab": {
          "base_uri": "https://localhost:8080/",
          "height": 1000
        },
        "outputId": "07f19f67-5be1-460e-fca8-341e5dd990e1"
      },
      "source": [
        "import cv2\n",
        "import qiskit\n",
        "import copy\n",
        "from qiskit.extensions import XGate, UnitaryGate\n",
        "import matplotlib.pyplot as plt\n",
        "#data being applied to encode unitary matrix\n",
        "data = EncodeUnitaryMatrix(x_train_nocon)\n",
        "##data matrix\n",
        "#conv_data_matrix,conv_data_statevector = (data.get_unitary_gate(),data.get_quantum_data)\n",
        "##Shape of data matrix\n",
        "###Take a data point\n",
        "#Variable bank (random array multiplied by pi, 16 by 16)\n",
        "variables = [np.random.rand()*np.pi for _ in range(16)]\n",
        "##Takes a data point and matrix and applies a circuit\n",
        "def encode_circuit_init(variables, conv_data_matrix):\n",
        "#Qubit register\n",
        "  qubits = QuantumRegister(9)\n",
        "#Classical register\n",
        "  cbits = ClassicalRegister(1)\n",
        "## Builds the Circuit\n",
        "  circ = QuantumCircuit(qubits)\n",
        "  circ.add_register(cbits)\n",
        "##Appending the unitary gate to the circuit\n",
        "  circ.append(UnitaryGate(conv_data_matrix),qubits[1:5])\n",
        "  circ.append(UnitaryGate(conv_data_matrix),qubits[5:9])\n",
        "##Applying the RY and CRY function\n",
        "  RY(circ, variables[0:4])\n",
        "  CRY(circ,variables[5:9])\n",
        "##Resetting the first and second qubit\n",
        "  circ.reset(1)\n",
        "  circ.reset(2)\n",
        "##Applying the RY and CRY function\n",
        "  RY(circ, variables[8:12])\n",
        "  CRY(circ, variables[12:16])\n",
        "  circ.h(0)\n",
        "  sim = Aer.get_backend('qasm_simulator')\n",
        "  [circ.cswap(0,i+1,i+5) for i in range(4)]\n",
        "  circ.h(0)\n",
        "  circ.measure(0,0)\n",
        "\n",
        "  return circ\n",
        "\n",
        "##print(circ.draw())\n",
        "x = print(encode_circuit_init(variables, conv_data_matrix))\n",
        "\n",
        "\n",
        "'''\n",
        "#Variable for simulator\n",
        "simulator = Aer.get_backend('qasm_simulator')\n",
        "\n",
        "##Function : Calculates Quantum Fidelity from circuit and data matrix\n",
        "def get_probabilities(circ,counts=7500):\n",
        "    job = execute(circ, backend = simulator , shots=counts)\n",
        "    results = job.result().get_counts(circ)\n",
        "    try:\n",
        "        prob = results['0']/(results['1']+results['0'])\n",
        "        prob = (prob-0.5)\n",
        "        if prob <= 0.005:\n",
        "            prob = 0.005\n",
        "        else:\n",
        "            prob = prob*2\n",
        "    except:\n",
        "        prob = 1\n",
        "    return prob\n",
        "##Function purpose: Loops over data points and retrieves gradient from circuit and data matrix\n",
        "list_of_points = list_of_points[:5]\n",
        "iterations = []\n",
        "total_iter = 0 \n",
        "#Looping 50 times\n",
        "for epoch in range(0, 3):\n",
        "    avg_fidelity = []\n",
        "#Loop over data points\n",
        "    for data in list_of_points:\n",
        "        ## Loops over variable bank\n",
        "        for j in range(len(variables)):\n",
        "            ##Copies over variable bank\n",
        "            theta = copy.deepcopy(variables)\n",
        "            theta_1,theta_2 = theta,theta\n",
        "            #Stores theta values\n",
        "            theta_1[j] += np.pi/2\n",
        "            theta_2[j] -= np.pi/2\n",
        "            ##Appends theta values to list to apply to gate\n",
        "            ##Build circuit 1 with theta variable measure fidelity\n",
        "            circuit1 = get_probabilities(encode_circuit_init(theta_1 , data))\n",
        "            #print(encode_circuit_init(theta_2 , conv_data_matrix))\n",
        "            ##Build circuit 2 measure fidelity\n",
        "            circuit2 = get_probabilities(encode_circuit_init(theta_2 , data))\n",
        "            ##Gradient = fidelity(circuit 1) - fidelity(circuit 2) / 2\n",
        "            gradient = (circuit1 - circuit2) / 2\n",
        "            #print(\"Gradient {}\".format(gradient))\n",
        "            ## Updating values in variable bank\n",
        "            variables[j] += gradient * 0.4\n",
        "            print(f\"Gate {j} Updated by {gradient*0.4}\")\n",
        "            if epoch%2==0 and epoch<4:\n",
        "                avg_fidelity.append(get_probabilities(encode_circuit_init(variables , conv_matrix_data)))\n",
        "            total_iter += 1\n",
        "            iterations.append(total_iter)\n",
        "            \n",
        "print(f\"Average Fidelity: {np.mean(avg_fidelity)}\")\n",
        "#print(avg_fidelity)\n",
        "print(total_iter)\n",
        "print(iterations)\n",
        "\n",
        "###Graphing the Quantum Fidelity \n",
        "x = np.array(iterations)\n",
        "##Reshape to take first 80 iterations\n",
        "x.resize(80)\n",
        "\n",
        "##Stores the average fidelity \n",
        "y = np.array(avg_fidelity)\n",
        "\n",
        "plt.title(\"Average Quantum Fidelity\")\n",
        "plt.xlabel(\"Iterations\")\n",
        "plt.ylabel(\"Average Fidelity\")\n",
        "plt.plot(x, y)'''\n",
        "\n",
        "\n",
        "\n"
      ],
      "execution_count": 15,
      "outputs": [
        {
          "output_type": "stream",
          "text": [
            "         ┌───┐                                                             »\n",
            "q8_0: ───┤ H ├─────────────────────────────────────────────────────────────»\n",
            "      ┌──┴───┴───┐┌─────────────┐                            ┌────────────┐»\n",
            "q8_1: ┤0         ├┤ RY(0.27887) ├──────■────────────|0>──────┤ RY(2.0115) ├»\n",
            "      │          │└┬────────────┤┌─────┴──────┐              └────────────┘»\n",
            "q8_2: ┤1         ├─┤ RY(2.5288) ├┤ RY(1.0237) ├──────■────────────|0>──────»\n",
            "      │  unitary │ ├────────────┤└────────────┘┌─────┴──────┐              »\n",
            "q8_3: ┤2         ├─┤ RY(2.4864) ├──────────────┤ RY(2.1214) ├──────■───────»\n",
            "      │          │ ├────────────┤              └────────────┘┌─────┴──────┐»\n",
            "q8_4: ┤3         ├─┤ RY(2.2897) ├────────────────────────────┤ RY(1.8147) ├»\n",
            "      ├──────────┤ └────────────┘                            └────────────┘»\n",
            "q8_5: ┤0         ├─────────────────────────────────────────────────────────»\n",
            "      │          │                                                         »\n",
            "q8_6: ┤1         ├─────────────────────────────────────────────────────────»\n",
            "      │  unitary │                                                         »\n",
            "q8_7: ┤2         ├─────────────────────────────────────────────────────────»\n",
            "      │          │                                                         »\n",
            "q8_8: ┤3         ├─────────────────────────────────────────────────────────»\n",
            "      └──────────┘                                                         »\n",
            "c8: 1/═════════════════════════════════════════════════════════════════════»\n",
            "                                                                           »\n",
            "«                                                                            »\n",
            "«q8_0: ──────────────────────────────────────────────────────────────────────»\n",
            "«                                                                            »\n",
            "«q8_1: ────────────────────■─────────────────────────────────────────────────»\n",
            "«      ┌────────────┐┌─────┴──────┐                                          »\n",
            "«q8_2: ┤ RY(1.1093) ├┤ RY(1.5836) ├──────■───────────────────────────────────»\n",
            "«      ├────────────┤└────────────┘┌─────┴──────┐                            »\n",
            "«q8_3: ┤ RY(2.9782) ├──────────────┤ RY(2.0897) ├──────■─────────────────────»\n",
            "«      └────────────┘┌────────────┐└────────────┘┌─────┴──────┐              »\n",
            "«q8_4: ──────■───────┤ RY(2.8935) ├──────────────┤ RY(1.8603) ├──────■───────»\n",
            "«      ┌─────┴──────┐└────────────┘              └────────────┘┌─────┴──────┐»\n",
            "«q8_5: ┤ RY(2.0115) ├──────────────────────────────────────────┤ RY(2.0521) ├»\n",
            "«      └────────────┘                                          └────────────┘»\n",
            "«q8_6: ──────────────────────────────────────────────────────────────────────»\n",
            "«                                                                            »\n",
            "«q8_7: ──────────────────────────────────────────────────────────────────────»\n",
            "«                                                                            »\n",
            "«q8_8: ──────────────────────────────────────────────────────────────────────»\n",
            "«                                                                            »\n",
            "«c8: 1/══════════════════════════════════════════════════════════════════════»\n",
            "«                                                                            »\n",
            "«                  ┌───┐┌─┐\n",
            "«q8_0: ─■──■──■──■─┤ H ├┤M├\n",
            "«       │  │  │  │ └───┘└╥┘\n",
            "«q8_1: ─X──┼──┼──┼───────╫─\n",
            "«       │  │  │  │       ║ \n",
            "«q8_2: ─┼──X──┼──┼───────╫─\n",
            "«       │  │  │  │       ║ \n",
            "«q8_3: ─┼──┼──X──┼───────╫─\n",
            "«       │  │  │  │       ║ \n",
            "«q8_4: ─┼──┼──┼──X───────╫─\n",
            "«       │  │  │  │       ║ \n",
            "«q8_5: ─X──┼──┼──┼───────╫─\n",
            "«          │  │  │       ║ \n",
            "«q8_6: ────X──┼──┼───────╫─\n",
            "«             │  │       ║ \n",
            "«q8_7: ───────X──┼───────╫─\n",
            "«                │       ║ \n",
            "«q8_8: ──────────X───────╫─\n",
            "«                        ║ \n",
            "«c8: 1/══════════════════╩═\n",
            "«                        0 \n"
          ],
          "name": "stdout"
        },
        {
          "output_type": "execute_result",
          "data": {
            "application/vnd.google.colaboratory.intrinsic+json": {
              "type": "string"
            },
            "text/plain": [
              "'\\n#Variable for simulator\\nsimulator = Aer.get_backend(\\'qasm_simulator\\')\\n\\n##Function : Calculates Quantum Fidelity from circuit and data matrix\\ndef get_probabilities(circ,counts=7500):\\n    job = execute(circ, backend = simulator , shots=counts)\\n    results = job.result().get_counts(circ)\\n    try:\\n        prob = results[\\'0\\']/(results[\\'1\\']+results[\\'0\\'])\\n        prob = (prob-0.5)\\n        if prob <= 0.005:\\n            prob = 0.005\\n        else:\\n            prob = prob*2\\n    except:\\n        prob = 1\\n    return prob\\n##Function purpose: Loops over data points and retrieves gradient from circuit and data matrix\\nlist_of_points = list_of_points[:5]\\niterations = []\\ntotal_iter = 0 \\n#Looping 50 times\\nfor epoch in range(0, 3):\\n    avg_fidelity = []\\n#Loop over data points\\n    for data in list_of_points:\\n        ## Loops over variable bank\\n        for j in range(len(variables)):\\n            ##Copies over variable bank\\n            theta = copy.deepcopy(variables)\\n            theta_1,theta_2 = theta,theta\\n            #Stores theta values\\n            theta_1[j] += np.pi/2\\n            theta_2[j] -= np.pi/2\\n            ##Appends theta values to list to apply to gate\\n            ##Build circuit 1 with theta variable measure fidelity\\n            circuit1 = get_probabilities(encode_circuit_init(theta_1 , data))\\n            #print(encode_circuit_init(theta_2 , conv_data_matrix))\\n            ##Build circuit 2 measure fidelity\\n            circuit2 = get_probabilities(encode_circuit_init(theta_2 , data))\\n            ##Gradient = fidelity(circuit 1) - fidelity(circuit 2) / 2\\n            gradient = (circuit1 - circuit2) / 2\\n            #print(\"Gradient {}\".format(gradient))\\n            ## Updating values in variable bank\\n            variables[j] += gradient * 0.4\\n            print(f\"Gate {j} Updated by {gradient*0.4}\")\\n            if epoch%2==0 and epoch<4:\\n                avg_fidelity.append(get_probabilities(encode_circuit_init(variables , conv_matrix_data)))\\n            total_iter += 1\\n            iterations.append(total_iter)\\n            \\nprint(f\"Average Fidelity: {np.mean(avg_fidelity)}\")\\n#print(avg_fidelity)\\nprint(total_iter)\\nprint(iterations)\\n\\n###Graphing the Quantum Fidelity \\nx = np.array(iterations)\\n##Reshape to take first 80 iterations\\nx.resize(80)\\n\\n##Stores the average fidelity \\ny = np.array(avg_fidelity)\\n\\nplt.title(\"Average Quantum Fidelity\")\\nplt.xlabel(\"Iterations\")\\nplt.ylabel(\"Average Fidelity\")\\nplt.plot(x, y)'"
            ]
          },
          "metadata": {
            "tags": []
          },
          "execution_count": 15
        }
      ]
    },
    {
      "cell_type": "code",
      "metadata": {
        "id": "Jd79uW-qfzUN"
      },
      "source": [
        "x = np.array(iterations)\n",
        "x.resize(80)\n",
        "y = np.array(avg_fidelity)\n",
        "print(y)\n",
        "\n"
      ],
      "execution_count": null,
      "outputs": []
    }
  ]
}